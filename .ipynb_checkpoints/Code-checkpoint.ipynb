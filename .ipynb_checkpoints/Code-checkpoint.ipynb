{
 "cells": [
  {
   "cell_type": "code",
   "execution_count": 1,
   "metadata": {
    "collapsed": true
   },
   "outputs": [],
   "source": [
    "import pandas as pd\n",
    "import numpy as np"
   ]
  },
  {
   "cell_type": "code",
   "execution_count": 47,
   "metadata": {
    "collapsed": true
   },
   "outputs": [],
   "source": [
    "train = pd.read_csv('./Train.csv')\n",
    "test = pd.read_csv('./Test.csv')"
   ]
  },
  {
   "cell_type": "code",
   "execution_count": 49,
   "metadata": {},
   "outputs": [
    {
     "data": {
      "text/plain": [
       "Item_Identifier              5681\n",
       "Item_Weight                  4705\n",
       "Item_Fat_Content             5681\n",
       "Item_Visibility              5681\n",
       "Item_Type                    5681\n",
       "Item_MRP                     5681\n",
       "Outlet_Identifier            5681\n",
       "Outlet_Establishment_Year    5681\n",
       "Outlet_Size                  4075\n",
       "Outlet_Location_Type         5681\n",
       "Outlet_Type                  5681\n",
       "dtype: int64"
      ]
     },
     "execution_count": 49,
     "metadata": {},
     "output_type": "execute_result"
    }
   ],
   "source": [
    "train.count()\n",
    "test.count()"
   ]
  },
  {
   "cell_type": "code",
   "execution_count": 71,
   "metadata": {},
   "outputs": [],
   "source": [
    "combine = [train,test]\n",
    "type_dict=list(train['Item_Type'].value_counts().index)\n",
    "type_item = {}\n",
    "i=1\n",
    "for item in type_dict:\n",
    "    type_item[item] = i\n",
    "    i=i+1\n",
    "\n",
    "    \n",
    "outlet=list(train['Outlet_Size'].value_counts().index)    \n",
    "outlet_size = {}\n",
    "i=1\n",
    "for item in outlet:\n",
    "    outlet_size[item] = i\n",
    "    i=i+1\n",
    "\n",
    "\n",
    "outlet_identifier=list(train['Outlet_Identifier'].value_counts.index)\n",
    "i=1\n",
    "identifier = {}\n",
    "for item in outlet_identifier:\n",
    "    identifier[item] = i\n",
    "    i=i+1\n",
    "\n",
    "outlet_size = list(train['Outlet_Size'].value_counts.index)\n",
    "i=1\n",
    "size={}\n",
    "for item in outlet_size:\n",
    "    size[item] = i\n",
    "    i=i+1\n",
    "\n",
    "\n",
    "outlet_location = list(train['Outlet_Location_Type'].value_counts.index)\n",
    "i=1\n",
    "location = {}\n",
    "for item in outlet_location:\n",
    "    location[item] = i\n",
    "    i=i+1\n",
    "\n",
    "\n",
    "    \n",
    "outlet_type = list(train['Outlet_Type'].value_counts.index)\n",
    "i=1\n",
    "type1 ={}\n",
    "for item in outlet_type:\n",
    "    type1[item] = i\n",
    "    i=i+1\n",
    "\n",
    "\n",
    "    \n",
    "for dataset in combine:\n",
    "    dataset['Item_Fat_Content']=dataset['Item_Fat_Content'].replace(['Low Fat','LF','low fat'], 1)\n",
    "    dataset['Item_Fat_Content']=dataset['Item_Fat_Content'].replace(['Regular','reg'], 2)\n",
    "    dataset['Item_Type'] = dataset['Item_Type'].map(type_item)\n",
    "    dataset['Outlet_Size'] = dataset['Outlet_Size'].map(outlet)\n",
    "    dataset['Outlet_Identifier'] = dataset['Outlet_Identifier'].map(identifier)\n",
    "    dataset['Outlet_Size'] = dataset['Outlet_Size'].map(size)\n",
    "    dataset['Outlet_Location_Type'] = dataset['Outlet_Location_Type'].map(location)\n",
    "    dataset['Outlet_Type'] = dataset['Outlet_Type'].map(type1)\n",
    "    "
   ]
  },
  {
   "cell_type": "code",
   "execution_count": 73,
   "metadata": {},
   "outputs": [
    {
     "data": {
      "text/plain": [
       "OUT027    935\n",
       "OUT013    932\n",
       "OUT049    930\n",
       "OUT046    930\n",
       "OUT035    930\n",
       "OUT045    929\n",
       "OUT018    928\n",
       "OUT017    926\n",
       "OUT010    555\n",
       "OUT019    528\n",
       "Name: Outlet_Identifier, dtype: int64"
      ]
     },
     "execution_count": 73,
     "metadata": {},
     "output_type": "execute_result"
    }
   ],
   "source": [
    "train['Outlet_Identifier'].value_counts()\n"
   ]
  },
  {
   "cell_type": "code",
   "execution_count": 67,
   "metadata": {},
   "outputs": [
    {
     "data": {
      "text/plain": [
       "16"
      ]
     },
     "execution_count": 67,
     "metadata": {},
     "output_type": "execute_result"
    }
   ],
   "source": [
    "test['Item_Type'].value_counts().size\n"
   ]
  },
  {
   "cell_type": "code",
   "execution_count": 61,
   "metadata": {},
   "outputs": [
    {
     "data": {
      "text/plain": [
       "['Low Fat', 'Regular', 'LF', 'reg', 'low fat']"
      ]
     },
     "execution_count": 61,
     "metadata": {},
     "output_type": "execute_result"
    }
   ],
   "source": [
    "item_Fat_Content "
   ]
  },
  {
   "cell_type": "code",
   "execution_count": 44,
   "metadata": {},
   "outputs": [
    {
     "name": "stdout",
     "output_type": "stream",
     "text": [
      "LOW FAT\n",
      "REGULAR\n",
      "LF\n",
      "REG\n",
      "LOW FAT\n"
     ]
    }
   ],
   "source": [
    "for fat in item_Fat_Content:\n",
    "   print(fat.upper()) "
   ]
  },
  {
   "cell_type": "code",
   "execution_count": null,
   "metadata": {
    "collapsed": true
   },
   "outputs": [],
   "source": []
  }
 ],
 "metadata": {
  "kernelspec": {
   "display_name": "Python 3",
   "language": "python",
   "name": "python3"
  },
  "language_info": {
   "codemirror_mode": {
    "name": "ipython",
    "version": 3
   },
   "file_extension": ".py",
   "mimetype": "text/x-python",
   "name": "python",
   "nbconvert_exporter": "python",
   "pygments_lexer": "ipython3",
   "version": "3.6.3"
  }
 },
 "nbformat": 4,
 "nbformat_minor": 2
}
